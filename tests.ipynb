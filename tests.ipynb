{
 "cells": [
  {
   "cell_type": "code",
   "execution_count": 2,
   "id": "97391633",
   "metadata": {},
   "outputs": [
    {
     "name": "stdout",
     "output_type": "stream",
     "text": [
      "539e18964bde2989c65c66df\n"
     ]
    },
    {
     "data": {
      "text/plain": [
       "'f3cfe9ed8fae309f02079dbf'"
      ]
     },
     "execution_count": 2,
     "metadata": {},
     "output_type": "execute_result"
    }
   ],
   "source": [
    "import os\n",
    "secKey =os.urandom(12).hex()\n",
    "print(secKey)\n",
    "'f3cfe9ed8fae309f02079dbf'"
   ]
  },
  {
   "cell_type": "code",
   "execution_count": 13,
   "id": "dde541c5",
   "metadata": {},
   "outputs": [],
   "source": [
    "import pandas as pd\n",
    "\n",
    "# Четем CSV\n",
    "df = pd.read_csv(\"static\\csvs\\\\raw\\AGGREGATED_GENERATION_PER_TYPE_GENERATION_202312312200-202412312200.csv\")\n",
    "\n",
    "df_solar = df[df[\"Production Type\"] == \"Solar\"].copy()\n",
    "\n",
    "# Почистваме колоната Interval от допълнителни текстове като \" (EET)\"\n",
    "interval_clean = df_solar[\"MTU (EET/EEST)\"].str.split(\" \").str[:2].str.join(\" \")\n",
    "\n",
    "# Преобразуваме към datetime и взимаме началния час\n",
    "start_hour = pd.to_datetime(interval_clean, dayfirst=True).dt.hour\n",
    "\n",
    "# Филтрираме часовете от 6 до 18\n",
    "df_filtered = df_solar[(start_hour >= 6) & (start_hour <= 18)]\n",
    "\n",
    "# Записваме нов CSV\n",
    "df_filtered.to_csv(\"static\\csvs\\solar_generated_clean1.csv\",index=False, header=False)"
   ]
  },
  {
   "cell_type": "code",
   "execution_count": 13,
   "id": "edbcf24d",
   "metadata": {},
   "outputs": [
    {
     "name": "stdout",
     "output_type": "stream",
     "text": [
      "2025-06-23\n",
      "<class 'datetime.date'>\n",
      "Success\n"
     ]
    }
   ],
   "source": [
    "import datetime\n",
    "date_str = \"2025-06-23\"\n",
    "date_obj = datetime.datetime.strptime(date_str, \"%Y-%m-%d\").date()\n",
    "\n",
    "# Ограничения\n",
    "min_date = datetime.datetime(2024, 6, 23).date()\n",
    "max_date = datetime.datetime.today().date() + datetime.timedelta(days=3)\n",
    "print(date_obj)        # 2024-01-01 00:00:00\n",
    "print(type(date_obj))\n",
    "curentDate = datetime.datetime.now() +datetime.timedelta(days=3)\n",
    "if (date_obj>=min_date and date_obj<=max_date):\n",
    "    print(\"Success\")"
   ]
  },
  {
   "cell_type": "code",
   "execution_count": 16,
   "id": "b6ba783e",
   "metadata": {},
   "outputs": [
    {
     "name": "stdout",
     "output_type": "stream",
     "text": [
      "Оригинал: 2024-06-24 18:00:00\n",
      "След +3 часа: 2024-06-24 15:00:00\n",
      "2024-06-24 2024-06-24 15\n"
     ]
    }
   ],
   "source": [
    "from datetime import datetime, timedelta\n",
    "\n",
    "# Взимаме от заявката\n",
    "date_str = \"2024-06-24\" # формат: YYYY-MM-DD\n",
    "hour_str = \"18\"  # напр. \"18\"\n",
    "\n",
    "# Парсваме в datetime\n",
    "dt = datetime.strptime(f\"{date_str} {hour_str}\", \"%Y-%m-%d %H\")\n",
    "\n",
    "# Добавяме 3 часа\n",
    "dt_plus_3 = dt - timedelta(hours=3)\n",
    "\n",
    "print(\"Оригинал:\", dt)\n",
    "print(\"След +3 часа:\", dt_plus_3)\n",
    "\n",
    "new_date = dt_plus_3.strftime(\"%Y-%m-%d\")\n",
    "new_hour = dt_plus_3.strftime(\"%H\")\n",
    "print(date_str, new_date, new_hour)\n"
   ]
  },
  {
   "cell_type": "code",
   "execution_count": 18,
   "id": "fc92334b",
   "metadata": {},
   "outputs": [
    {
     "name": "stdout",
     "output_type": "stream",
     "text": [
      "<class 'dict'>\n"
     ]
    }
   ],
   "source": [
    "time_slots = [\"06\", \"09\", \"12\", \"15\", \"18\"]\n",
    "values = {slot: range(1, 6) for slot in time_slots}\n",
    "print(type(values))"
   ]
  }
 ],
 "metadata": {
  "kernelspec": {
   "display_name": "base",
   "language": "python",
   "name": "python3"
  },
  "language_info": {
   "codemirror_mode": {
    "name": "ipython",
    "version": 3
   },
   "file_extension": ".py",
   "mimetype": "text/x-python",
   "name": "python",
   "nbconvert_exporter": "python",
   "pygments_lexer": "ipython3",
   "version": "3.11.7"
  }
 },
 "nbformat": 4,
 "nbformat_minor": 5
}
